{
 "cells": [
  {
   "cell_type": "code",
   "execution_count": 1,
   "id": "6b9055cb",
   "metadata": {},
   "outputs": [],
   "source": [
    "import numpy as np \n",
    "import matplotlib.pyplot as plt\n",
    "import pandas as pd\n",
    "import seaborn as sns"
   ]
  },
  {
   "cell_type": "code",
   "execution_count": 2,
   "id": "ad49b766",
   "metadata": {},
   "outputs": [],
   "source": [
    "raw_data=pd.read_csv('C:\\\\Users\\\\ajay3\\\\Desktop\\\\Internship\\\\HW Saver LLP\\\\Files\\\\Raw_Skills_Dataset.csv')\n"
   ]
  },
  {
   "cell_type": "code",
   "execution_count": 3,
   "id": "f53db1ad",
   "metadata": {},
   "outputs": [
    {
     "data": {
      "text/plain": [
       "(34116, 1)"
      ]
     },
     "execution_count": 3,
     "metadata": {},
     "output_type": "execute_result"
    }
   ],
   "source": [
    "raw_data.shape"
   ]
  },
  {
   "cell_type": "code",
   "execution_count": 4,
   "id": "be2ca394",
   "metadata": {},
   "outputs": [
    {
     "data": {
      "text/html": [
       "<div>\n",
       "<style scoped>\n",
       "    .dataframe tbody tr th:only-of-type {\n",
       "        vertical-align: middle;\n",
       "    }\n",
       "\n",
       "    .dataframe tbody tr th {\n",
       "        vertical-align: top;\n",
       "    }\n",
       "\n",
       "    .dataframe thead th {\n",
       "        text-align: right;\n",
       "    }\n",
       "</style>\n",
       "<table border=\"1\" class=\"dataframe\">\n",
       "  <thead>\n",
       "    <tr style=\"text-align: right;\">\n",
       "      <th></th>\n",
       "      <th>RAW DATA</th>\n",
       "    </tr>\n",
       "  </thead>\n",
       "  <tbody>\n",
       "    <tr>\n",
       "      <th>0</th>\n",
       "      <td>What ifs</td>\n",
       "    </tr>\n",
       "    <tr>\n",
       "      <th>1</th>\n",
       "      <td>seniority</td>\n",
       "    </tr>\n",
       "    <tr>\n",
       "      <th>2</th>\n",
       "      <td>familiarity</td>\n",
       "    </tr>\n",
       "    <tr>\n",
       "      <th>3</th>\n",
       "      <td>functionalities</td>\n",
       "    </tr>\n",
       "    <tr>\n",
       "      <th>4</th>\n",
       "      <td>Lambdas</td>\n",
       "    </tr>\n",
       "  </tbody>\n",
       "</table>\n",
       "</div>"
      ],
      "text/plain": [
       "          RAW DATA\n",
       "0         What ifs\n",
       "1        seniority\n",
       "2      familiarity\n",
       "3  functionalities\n",
       "4          Lambdas"
      ]
     },
     "execution_count": 4,
     "metadata": {},
     "output_type": "execute_result"
    }
   ],
   "source": [
    "raw_data.head()"
   ]
  },
  {
   "cell_type": "code",
   "execution_count": 5,
   "id": "0ea5f6f7",
   "metadata": {},
   "outputs": [
    {
     "data": {
      "text/html": [
       "<div>\n",
       "<style scoped>\n",
       "    .dataframe tbody tr th:only-of-type {\n",
       "        vertical-align: middle;\n",
       "    }\n",
       "\n",
       "    .dataframe tbody tr th {\n",
       "        vertical-align: top;\n",
       "    }\n",
       "\n",
       "    .dataframe thead th {\n",
       "        text-align: right;\n",
       "    }\n",
       "</style>\n",
       "<table border=\"1\" class=\"dataframe\">\n",
       "  <thead>\n",
       "    <tr style=\"text-align: right;\">\n",
       "      <th></th>\n",
       "      <th>RAW DATA</th>\n",
       "    </tr>\n",
       "  </thead>\n",
       "  <tbody>\n",
       "    <tr>\n",
       "      <th>count</th>\n",
       "      <td>34116</td>\n",
       "    </tr>\n",
       "    <tr>\n",
       "      <th>unique</th>\n",
       "      <td>15677</td>\n",
       "    </tr>\n",
       "    <tr>\n",
       "      <th>top</th>\n",
       "      <td>Python</td>\n",
       "    </tr>\n",
       "    <tr>\n",
       "      <th>freq</th>\n",
       "      <td>272</td>\n",
       "    </tr>\n",
       "  </tbody>\n",
       "</table>\n",
       "</div>"
      ],
      "text/plain": [
       "       RAW DATA\n",
       "count     34116\n",
       "unique    15677\n",
       "top      Python\n",
       "freq        272"
      ]
     },
     "execution_count": 5,
     "metadata": {},
     "output_type": "execute_result"
    }
   ],
   "source": [
    "raw_data.describe(include='all')"
   ]
  },
  {
   "cell_type": "code",
   "execution_count": 6,
   "id": "4291349c",
   "metadata": {},
   "outputs": [
    {
     "data": {
      "text/html": [
       "<div>\n",
       "<style scoped>\n",
       "    .dataframe tbody tr th:only-of-type {\n",
       "        vertical-align: middle;\n",
       "    }\n",
       "\n",
       "    .dataframe tbody tr th {\n",
       "        vertical-align: top;\n",
       "    }\n",
       "\n",
       "    .dataframe thead th {\n",
       "        text-align: right;\n",
       "    }\n",
       "</style>\n",
       "<table border=\"1\" class=\"dataframe\">\n",
       "  <thead>\n",
       "    <tr style=\"text-align: right;\">\n",
       "      <th></th>\n",
       "      <th>RAW DATA</th>\n",
       "    </tr>\n",
       "  </thead>\n",
       "  <tbody>\n",
       "    <tr>\n",
       "      <th>34111</th>\n",
       "      <td>negotiation</td>\n",
       "    </tr>\n",
       "    <tr>\n",
       "      <th>34112</th>\n",
       "      <td>deadlines</td>\n",
       "    </tr>\n",
       "    <tr>\n",
       "      <th>34113</th>\n",
       "      <td>Self-motivated, enthusiastic and strong drive</td>\n",
       "    </tr>\n",
       "    <tr>\n",
       "      <th>34114</th>\n",
       "      <td>negotiation</td>\n",
       "    </tr>\n",
       "    <tr>\n",
       "      <th>34115</th>\n",
       "      <td>deadlines</td>\n",
       "    </tr>\n",
       "  </tbody>\n",
       "</table>\n",
       "</div>"
      ],
      "text/plain": [
       "                                            RAW DATA\n",
       "34111                                    negotiation\n",
       "34112                                      deadlines\n",
       "34113  Self-motivated, enthusiastic and strong drive\n",
       "34114                                    negotiation\n",
       "34115                                      deadlines"
      ]
     },
     "execution_count": 6,
     "metadata": {},
     "output_type": "execute_result"
    }
   ],
   "source": [
    "raw_data.tail()"
   ]
  },
  {
   "cell_type": "code",
   "execution_count": 7,
   "id": "8bea592c",
   "metadata": {},
   "outputs": [],
   "source": [
    "raw_data.columns=['Data']"
   ]
  },
  {
   "cell_type": "code",
   "execution_count": 8,
   "id": "e23b4748",
   "metadata": {},
   "outputs": [
    {
     "data": {
      "text/html": [
       "<div>\n",
       "<style scoped>\n",
       "    .dataframe tbody tr th:only-of-type {\n",
       "        vertical-align: middle;\n",
       "    }\n",
       "\n",
       "    .dataframe tbody tr th {\n",
       "        vertical-align: top;\n",
       "    }\n",
       "\n",
       "    .dataframe thead th {\n",
       "        text-align: right;\n",
       "    }\n",
       "</style>\n",
       "<table border=\"1\" class=\"dataframe\">\n",
       "  <thead>\n",
       "    <tr style=\"text-align: right;\">\n",
       "      <th></th>\n",
       "      <th>Data</th>\n",
       "    </tr>\n",
       "  </thead>\n",
       "  <tbody>\n",
       "    <tr>\n",
       "      <th>0</th>\n",
       "      <td>What ifs</td>\n",
       "    </tr>\n",
       "    <tr>\n",
       "      <th>1</th>\n",
       "      <td>seniority</td>\n",
       "    </tr>\n",
       "    <tr>\n",
       "      <th>2</th>\n",
       "      <td>familiarity</td>\n",
       "    </tr>\n",
       "    <tr>\n",
       "      <th>3</th>\n",
       "      <td>functionalities</td>\n",
       "    </tr>\n",
       "    <tr>\n",
       "      <th>4</th>\n",
       "      <td>Lambdas</td>\n",
       "    </tr>\n",
       "    <tr>\n",
       "      <th>...</th>\n",
       "      <td>...</td>\n",
       "    </tr>\n",
       "    <tr>\n",
       "      <th>34111</th>\n",
       "      <td>negotiation</td>\n",
       "    </tr>\n",
       "    <tr>\n",
       "      <th>34112</th>\n",
       "      <td>deadlines</td>\n",
       "    </tr>\n",
       "    <tr>\n",
       "      <th>34113</th>\n",
       "      <td>Self-motivated, enthusiastic and strong drive</td>\n",
       "    </tr>\n",
       "    <tr>\n",
       "      <th>34114</th>\n",
       "      <td>negotiation</td>\n",
       "    </tr>\n",
       "    <tr>\n",
       "      <th>34115</th>\n",
       "      <td>deadlines</td>\n",
       "    </tr>\n",
       "  </tbody>\n",
       "</table>\n",
       "<p>34116 rows × 1 columns</p>\n",
       "</div>"
      ],
      "text/plain": [
       "                                                Data\n",
       "0                                           What ifs\n",
       "1                                          seniority\n",
       "2                                        familiarity\n",
       "3                                    functionalities\n",
       "4                                            Lambdas\n",
       "...                                              ...\n",
       "34111                                    negotiation\n",
       "34112                                      deadlines\n",
       "34113  Self-motivated, enthusiastic and strong drive\n",
       "34114                                    negotiation\n",
       "34115                                      deadlines\n",
       "\n",
       "[34116 rows x 1 columns]"
      ]
     },
     "execution_count": 8,
     "metadata": {},
     "output_type": "execute_result"
    }
   ],
   "source": [
    "raw_data"
   ]
  },
  {
   "cell_type": "code",
   "execution_count": 9,
   "id": "c087987d",
   "metadata": {},
   "outputs": [
    {
     "data": {
      "text/plain": [
       "Data              \n",
       "Python                272\n",
       "AWS                   239\n",
       "JavaScript            220\n",
       "Kubernetes            180\n",
       "Familiarity           172\n",
       "SQL                   166\n",
       "deployment            142\n",
       "Git                   139\n",
       "Azure                 137\n",
       "CSS                   124\n",
       "automation            124\n",
       "Docker                120\n",
       "-                     112\n",
       "HTML                  109\n",
       "frameworks            105\n",
       "APIs                   88\n",
       "Jenkins                88\n",
       "scalability            82\n",
       "stakeholders           81\n",
       "documentation          80\n",
       "Proficiency            80\n",
       "troubleshooting        79\n",
       "algorithms             78\n",
       "Scala                  75\n",
       "GCP                    74\n",
       "Angular                72\n",
       "Linux                  71\n",
       "Ruby                   69\n",
       "Terraform              65\n",
       "databases              65\n",
       "TypeScript             62\n",
       "Kafka                  58\n",
       "MySQL                  57\n",
       "Bachelor’s degree      55\n",
       "Oracle                 55\n",
       "GraphQL                54\n",
       "configuration          53\n",
       "Spark                  53\n",
       "Golang                 53\n",
       "jQuery                 52\n",
       "JSON                   51\n",
       "performance tuning     51\n",
       "Microservices          49\n",
       "reliability            49\n",
       "HTML5                  48\n",
       "Node.js                48\n",
       "vendors                47\n",
       "CI/CD                  47\n",
       "DevOps                 47\n",
       " Proficiency           45\n",
       "dtype: int64"
      ]
     },
     "execution_count": 9,
     "metadata": {},
     "output_type": "execute_result"
    }
   ],
   "source": [
    "raw_data.value_counts().head(50)"
   ]
  },
  {
   "cell_type": "code",
   "execution_count": 10,
   "id": "935bb93b",
   "metadata": {},
   "outputs": [],
   "source": [
    "#Familiarity, stakeholders, proficiency, reliability,vendors,bachelor's degree and - do not signify any particular skill"
   ]
  },
  {
   "cell_type": "code",
   "execution_count": 11,
   "id": "c8604422",
   "metadata": {},
   "outputs": [],
   "source": [
    "raw_data_no_duplicates=raw_data.drop_duplicates()"
   ]
  },
  {
   "cell_type": "code",
   "execution_count": 12,
   "id": "aa72847b",
   "metadata": {},
   "outputs": [
    {
     "data": {
      "text/html": [
       "<div>\n",
       "<style scoped>\n",
       "    .dataframe tbody tr th:only-of-type {\n",
       "        vertical-align: middle;\n",
       "    }\n",
       "\n",
       "    .dataframe tbody tr th {\n",
       "        vertical-align: top;\n",
       "    }\n",
       "\n",
       "    .dataframe thead th {\n",
       "        text-align: right;\n",
       "    }\n",
       "</style>\n",
       "<table border=\"1\" class=\"dataframe\">\n",
       "  <thead>\n",
       "    <tr style=\"text-align: right;\">\n",
       "      <th></th>\n",
       "      <th>Data</th>\n",
       "    </tr>\n",
       "  </thead>\n",
       "  <tbody>\n",
       "    <tr>\n",
       "      <th>0</th>\n",
       "      <td>What ifs</td>\n",
       "    </tr>\n",
       "    <tr>\n",
       "      <th>1</th>\n",
       "      <td>seniority</td>\n",
       "    </tr>\n",
       "    <tr>\n",
       "      <th>2</th>\n",
       "      <td>familiarity</td>\n",
       "    </tr>\n",
       "    <tr>\n",
       "      <th>3</th>\n",
       "      <td>functionalities</td>\n",
       "    </tr>\n",
       "    <tr>\n",
       "      <th>4</th>\n",
       "      <td>Lambdas</td>\n",
       "    </tr>\n",
       "    <tr>\n",
       "      <th>...</th>\n",
       "      <td>...</td>\n",
       "    </tr>\n",
       "    <tr>\n",
       "      <th>34106</th>\n",
       "      <td>Leadership qualities</td>\n",
       "    </tr>\n",
       "    <tr>\n",
       "      <th>34108</th>\n",
       "      <td>Actalent</td>\n",
       "    </tr>\n",
       "    <tr>\n",
       "      <th>34109</th>\n",
       "      <td>all applicants</td>\n",
       "    </tr>\n",
       "    <tr>\n",
       "      <th>34110</th>\n",
       "      <td>Self-motivated, enthusiastic and strong drive</td>\n",
       "    </tr>\n",
       "    <tr>\n",
       "      <th>34111</th>\n",
       "      <td>negotiation</td>\n",
       "    </tr>\n",
       "  </tbody>\n",
       "</table>\n",
       "<p>15677 rows × 1 columns</p>\n",
       "</div>"
      ],
      "text/plain": [
       "                                                Data\n",
       "0                                           What ifs\n",
       "1                                          seniority\n",
       "2                                        familiarity\n",
       "3                                    functionalities\n",
       "4                                            Lambdas\n",
       "...                                              ...\n",
       "34106                           Leadership qualities\n",
       "34108                                       Actalent\n",
       "34109                                 all applicants\n",
       "34110  Self-motivated, enthusiastic and strong drive\n",
       "34111                                    negotiation\n",
       "\n",
       "[15677 rows x 1 columns]"
      ]
     },
     "execution_count": 12,
     "metadata": {},
     "output_type": "execute_result"
    }
   ],
   "source": [
    "raw_data_no_duplicates"
   ]
  },
  {
   "cell_type": "markdown",
   "id": "805e0f82",
   "metadata": {},
   "source": [
    "# any sentence which has special characters except ,/- are removed.\n"
   ]
  },
  {
   "cell_type": "code",
   "execution_count": 13,
   "id": "73bf0e92",
   "metadata": {},
   "outputs": [],
   "source": [
    "raw_data_no_duplicates= raw_data_no_duplicates.drop(raw_data_no_duplicates[raw_data_no_duplicates['Data'].str.contains(r'[^0-9a-zA-Z ,/-]')].index)"
   ]
  },
  {
   "cell_type": "markdown",
   "id": "8e362e34",
   "metadata": {},
   "source": [
    "# We can also try to replace any special character with just a space"
   ]
  },
  {
   "cell_type": "code",
   "execution_count": 14,
   "id": "806fbd07",
   "metadata": {},
   "outputs": [
    {
     "name": "stderr",
     "output_type": "stream",
     "text": [
      "[nltk_data] Downloading package stopwords to\n",
      "[nltk_data]     C:\\Users\\ajay3\\AppData\\Roaming\\nltk_data...\n",
      "[nltk_data]   Package stopwords is already up-to-date!\n"
     ]
    },
    {
     "data": {
      "text/plain": [
       "True"
      ]
     },
     "execution_count": 14,
     "metadata": {},
     "output_type": "execute_result"
    }
   ],
   "source": [
    "import re\n",
    "import nltk\n",
    "from nltk.corpus import stopwords\n",
    "nltk.download('stopwords')"
   ]
  },
  {
   "cell_type": "code",
   "execution_count": 15,
   "id": "7d00dd01",
   "metadata": {},
   "outputs": [],
   "source": [
    "from nltk.tokenize import word_tokenize"
   ]
  },
  {
   "cell_type": "code",
   "execution_count": 16,
   "id": "96ac2c9f",
   "metadata": {
    "scrolled": true
   },
   "outputs": [],
   "source": [
    "stop_wd = set(stopwords.words('english'))\n",
    "def clean_text(data):\n",
    "    data = re.sub('[^a-zA-Z]',' ',data)\n",
    "    data = word_tokenize(data)\n",
    "    data = [i for i in data if i not in stop_wd]\n",
    "    data = ' '.join(data)\n",
    "    return data"
   ]
  },
  {
   "cell_type": "code",
   "execution_count": 17,
   "id": "51bcea9c",
   "metadata": {},
   "outputs": [],
   "source": [
    "raw_data_no_duplicates['Clean']=raw_data_no_duplicates['Data'].apply(clean_text)"
   ]
  },
  {
   "cell_type": "code",
   "execution_count": 18,
   "id": "49d20d35",
   "metadata": {},
   "outputs": [
    {
     "data": {
      "text/html": [
       "<div>\n",
       "<style scoped>\n",
       "    .dataframe tbody tr th:only-of-type {\n",
       "        vertical-align: middle;\n",
       "    }\n",
       "\n",
       "    .dataframe tbody tr th {\n",
       "        vertical-align: top;\n",
       "    }\n",
       "\n",
       "    .dataframe thead th {\n",
       "        text-align: right;\n",
       "    }\n",
       "</style>\n",
       "<table border=\"1\" class=\"dataframe\">\n",
       "  <thead>\n",
       "    <tr style=\"text-align: right;\">\n",
       "      <th></th>\n",
       "      <th>Data</th>\n",
       "      <th>Clean</th>\n",
       "    </tr>\n",
       "  </thead>\n",
       "  <tbody>\n",
       "    <tr>\n",
       "      <th>0</th>\n",
       "      <td>What ifs</td>\n",
       "      <td>What ifs</td>\n",
       "    </tr>\n",
       "    <tr>\n",
       "      <th>1</th>\n",
       "      <td>seniority</td>\n",
       "      <td>seniority</td>\n",
       "    </tr>\n",
       "    <tr>\n",
       "      <th>2</th>\n",
       "      <td>familiarity</td>\n",
       "      <td>familiarity</td>\n",
       "    </tr>\n",
       "    <tr>\n",
       "      <th>3</th>\n",
       "      <td>functionalities</td>\n",
       "      <td>functionalities</td>\n",
       "    </tr>\n",
       "    <tr>\n",
       "      <th>4</th>\n",
       "      <td>Lambdas</td>\n",
       "      <td>Lambdas</td>\n",
       "    </tr>\n",
       "    <tr>\n",
       "      <th>...</th>\n",
       "      <td>...</td>\n",
       "      <td>...</td>\n",
       "    </tr>\n",
       "    <tr>\n",
       "      <th>34106</th>\n",
       "      <td>Leadership qualities</td>\n",
       "      <td>Leadership qualities</td>\n",
       "    </tr>\n",
       "    <tr>\n",
       "      <th>34108</th>\n",
       "      <td>Actalent</td>\n",
       "      <td>Actalent</td>\n",
       "    </tr>\n",
       "    <tr>\n",
       "      <th>34109</th>\n",
       "      <td>all applicants</td>\n",
       "      <td>applicants</td>\n",
       "    </tr>\n",
       "    <tr>\n",
       "      <th>34110</th>\n",
       "      <td>Self-motivated, enthusiastic and strong drive</td>\n",
       "      <td>Self motivated enthusiastic strong drive</td>\n",
       "    </tr>\n",
       "    <tr>\n",
       "      <th>34111</th>\n",
       "      <td>negotiation</td>\n",
       "      <td>negotiation</td>\n",
       "    </tr>\n",
       "  </tbody>\n",
       "</table>\n",
       "<p>14311 rows × 2 columns</p>\n",
       "</div>"
      ],
      "text/plain": [
       "                                                Data  \\\n",
       "0                                           What ifs   \n",
       "1                                          seniority   \n",
       "2                                        familiarity   \n",
       "3                                    functionalities   \n",
       "4                                            Lambdas   \n",
       "...                                              ...   \n",
       "34106                           Leadership qualities   \n",
       "34108                                       Actalent   \n",
       "34109                                 all applicants   \n",
       "34110  Self-motivated, enthusiastic and strong drive   \n",
       "34111                                    negotiation   \n",
       "\n",
       "                                          Clean  \n",
       "0                                      What ifs  \n",
       "1                                     seniority  \n",
       "2                                   familiarity  \n",
       "3                               functionalities  \n",
       "4                                       Lambdas  \n",
       "...                                         ...  \n",
       "34106                      Leadership qualities  \n",
       "34108                                  Actalent  \n",
       "34109                                applicants  \n",
       "34110  Self motivated enthusiastic strong drive  \n",
       "34111                               negotiation  \n",
       "\n",
       "[14311 rows x 2 columns]"
      ]
     },
     "execution_count": 18,
     "metadata": {},
     "output_type": "execute_result"
    }
   ],
   "source": [
    "raw_data_no_duplicates"
   ]
  },
  {
   "cell_type": "code",
   "execution_count": 19,
   "id": "f3181492",
   "metadata": {},
   "outputs": [],
   "source": [
    "# From the data given to us in the example, we see all the data has capital letters to start with and we would like to see the same for every other data as well which are technical skills"
   ]
  },
  {
   "cell_type": "code",
   "execution_count": 20,
   "id": "0514bb76",
   "metadata": {},
   "outputs": [],
   "source": [
    "def cap(i):\n",
    "    list = []\n",
    "    for a in i:\n",
    "        count=0\n",
    "        for b in a.split():\n",
    "            if b[0].islower():\n",
    "                count+=1\n",
    "        if (count>0):\n",
    "            list.append(0)\n",
    "        else:\n",
    "            list.append(1)\n",
    "    return list"
   ]
  },
  {
   "cell_type": "code",
   "execution_count": 21,
   "id": "2e291a67",
   "metadata": {},
   "outputs": [],
   "source": [
    "b=cap(raw_data_no_duplicates['Data'])"
   ]
  },
  {
   "cell_type": "code",
   "execution_count": 22,
   "id": "ca7f2861",
   "metadata": {},
   "outputs": [],
   "source": [
    "raw_data_no_duplicates['Tech']=b"
   ]
  },
  {
   "cell_type": "code",
   "execution_count": 23,
   "id": "0ba7a1ec",
   "metadata": {},
   "outputs": [
    {
     "data": {
      "text/html": [
       "<div>\n",
       "<style scoped>\n",
       "    .dataframe tbody tr th:only-of-type {\n",
       "        vertical-align: middle;\n",
       "    }\n",
       "\n",
       "    .dataframe tbody tr th {\n",
       "        vertical-align: top;\n",
       "    }\n",
       "\n",
       "    .dataframe thead th {\n",
       "        text-align: right;\n",
       "    }\n",
       "</style>\n",
       "<table border=\"1\" class=\"dataframe\">\n",
       "  <thead>\n",
       "    <tr style=\"text-align: right;\">\n",
       "      <th></th>\n",
       "      <th>Data</th>\n",
       "      <th>Clean</th>\n",
       "      <th>Tech</th>\n",
       "    </tr>\n",
       "  </thead>\n",
       "  <tbody>\n",
       "    <tr>\n",
       "      <th>0</th>\n",
       "      <td>What ifs</td>\n",
       "      <td>What ifs</td>\n",
       "      <td>0</td>\n",
       "    </tr>\n",
       "    <tr>\n",
       "      <th>1</th>\n",
       "      <td>seniority</td>\n",
       "      <td>seniority</td>\n",
       "      <td>0</td>\n",
       "    </tr>\n",
       "    <tr>\n",
       "      <th>2</th>\n",
       "      <td>familiarity</td>\n",
       "      <td>familiarity</td>\n",
       "      <td>0</td>\n",
       "    </tr>\n",
       "    <tr>\n",
       "      <th>3</th>\n",
       "      <td>functionalities</td>\n",
       "      <td>functionalities</td>\n",
       "      <td>0</td>\n",
       "    </tr>\n",
       "    <tr>\n",
       "      <th>4</th>\n",
       "      <td>Lambdas</td>\n",
       "      <td>Lambdas</td>\n",
       "      <td>1</td>\n",
       "    </tr>\n",
       "    <tr>\n",
       "      <th>...</th>\n",
       "      <td>...</td>\n",
       "      <td>...</td>\n",
       "      <td>...</td>\n",
       "    </tr>\n",
       "    <tr>\n",
       "      <th>34106</th>\n",
       "      <td>Leadership qualities</td>\n",
       "      <td>Leadership qualities</td>\n",
       "      <td>0</td>\n",
       "    </tr>\n",
       "    <tr>\n",
       "      <th>34108</th>\n",
       "      <td>Actalent</td>\n",
       "      <td>Actalent</td>\n",
       "      <td>1</td>\n",
       "    </tr>\n",
       "    <tr>\n",
       "      <th>34109</th>\n",
       "      <td>all applicants</td>\n",
       "      <td>applicants</td>\n",
       "      <td>0</td>\n",
       "    </tr>\n",
       "    <tr>\n",
       "      <th>34110</th>\n",
       "      <td>Self-motivated, enthusiastic and strong drive</td>\n",
       "      <td>Self motivated enthusiastic strong drive</td>\n",
       "      <td>0</td>\n",
       "    </tr>\n",
       "    <tr>\n",
       "      <th>34111</th>\n",
       "      <td>negotiation</td>\n",
       "      <td>negotiation</td>\n",
       "      <td>0</td>\n",
       "    </tr>\n",
       "  </tbody>\n",
       "</table>\n",
       "<p>14311 rows × 3 columns</p>\n",
       "</div>"
      ],
      "text/plain": [
       "                                                Data  \\\n",
       "0                                           What ifs   \n",
       "1                                          seniority   \n",
       "2                                        familiarity   \n",
       "3                                    functionalities   \n",
       "4                                            Lambdas   \n",
       "...                                              ...   \n",
       "34106                           Leadership qualities   \n",
       "34108                                       Actalent   \n",
       "34109                                 all applicants   \n",
       "34110  Self-motivated, enthusiastic and strong drive   \n",
       "34111                                    negotiation   \n",
       "\n",
       "                                          Clean  Tech  \n",
       "0                                      What ifs     0  \n",
       "1                                     seniority     0  \n",
       "2                                   familiarity     0  \n",
       "3                               functionalities     0  \n",
       "4                                       Lambdas     1  \n",
       "...                                         ...   ...  \n",
       "34106                      Leadership qualities     0  \n",
       "34108                                  Actalent     1  \n",
       "34109                                applicants     0  \n",
       "34110  Self motivated enthusiastic strong drive     0  \n",
       "34111                               negotiation     0  \n",
       "\n",
       "[14311 rows x 3 columns]"
      ]
     },
     "execution_count": 23,
     "metadata": {},
     "output_type": "execute_result"
    }
   ],
   "source": [
    "raw_data_no_duplicates"
   ]
  },
  {
   "cell_type": "code",
   "execution_count": 24,
   "id": "313804a1",
   "metadata": {},
   "outputs": [],
   "source": [
    "tech = raw_data_no_duplicates[raw_data_no_duplicates[\"Tech\"]==1][\"Clean\"]"
   ]
  },
  {
   "cell_type": "code",
   "execution_count": 25,
   "id": "ef747ef5",
   "metadata": {},
   "outputs": [
    {
     "data": {
      "text/plain": [
       "4                             Lambdas\n",
       "5                        Java Streams\n",
       "7                Relational Databases\n",
       "8                                 SQL\n",
       "9                                 ORM\n",
       "10                                JPA\n",
       "11                          Hibernate\n",
       "12                            MyBatis\n",
       "16                              Maven\n",
       "22                        Familiarity\n",
       "55                             Python\n",
       "62                              MySQL\n",
       "63                             Oracle\n",
       "64                       NoSQL Stores\n",
       "66                         Clickhouse\n",
       "67     Distributed Processing Engines\n",
       "69                       Apache Flink\n",
       "70                             Celery\n",
       "71                 Distributed Queues\n",
       "73                        AWS Kinesis\n",
       "74                         GCP PusSub\n",
       "76                                GCP\n",
       "77                              Azure\n",
       "78                                AWS\n",
       "86                             TCP IP\n",
       "87                              Kafka\n",
       "106                       CAP Theorem\n",
       "107                              RAFT\n",
       "109                             Paxos\n",
       "110                             CI CD\n",
       "111                            Github\n",
       "112                         Makefiles\n",
       "113                     Microservices\n",
       "117                              Ruby\n",
       "118                    PerlExperience\n",
       "119                             Bazel\n",
       "121                    HTTP websocket\n",
       "123                             Redis\n",
       "167                  Web UIExperience\n",
       "168                        JavaScript\n",
       "169                              HTML\n",
       "170                               CSS\n",
       "174                           Angular\n",
       "175                            Meteor\n",
       "176                             Ember\n",
       "177                          Knockout\n",
       "179                               Vue\n",
       "180                         Bootstrap\n",
       "181                                ES\n",
       "182                        TypeScript\n",
       "Name: Clean, dtype: object"
      ]
     },
     "execution_count": 25,
     "metadata": {},
     "output_type": "execute_result"
    }
   ],
   "source": [
    "tech.head(50)"
   ]
  },
  {
   "cell_type": "code",
   "execution_count": null,
   "id": "a72336ca",
   "metadata": {},
   "outputs": [],
   "source": []
  }
 ],
 "metadata": {
  "kernelspec": {
   "display_name": "Python 3 (ipykernel)",
   "language": "python",
   "name": "python3"
  },
  "language_info": {
   "codemirror_mode": {
    "name": "ipython",
    "version": 3
   },
   "file_extension": ".py",
   "mimetype": "text/x-python",
   "name": "python",
   "nbconvert_exporter": "python",
   "pygments_lexer": "ipython3",
   "version": "3.8.12"
  }
 },
 "nbformat": 4,
 "nbformat_minor": 5
}
